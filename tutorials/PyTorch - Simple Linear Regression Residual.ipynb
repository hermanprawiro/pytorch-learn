{
 "cells": [
  {
   "cell_type": "code",
   "execution_count": 1,
   "metadata": {},
   "outputs": [],
   "source": [
    "import torch\n",
    "import matplotlib.pyplot as plt"
   ]
  },
  {
   "cell_type": "markdown",
   "metadata": {},
   "source": [
    "`true_m` and `true_b` are the true parameters of the function for the training data.\n",
    "\n",
    "Prepare the data, randomize all input x, then calculate the true y."
   ]
  },
  {
   "cell_type": "code",
   "execution_count": 2,
   "metadata": {},
   "outputs": [
    {
     "name": "stdout",
     "output_type": "stream",
     "text": [
      "tensor([-1.8583]) tensor([-0.1239])\n"
     ]
    }
   ],
   "source": [
    "true_m = torch.randn(1)\n",
    "true_b = torch.randn(1)\n",
    "x = torch.randn((100000, 1))\n",
    "y = x * true_m + true_b\n",
    "\n",
    "print(true_m, true_b)"
   ]
  },
  {
   "cell_type": "markdown",
   "metadata": {},
   "source": [
    "Create two trainable parameters, `m` and `b` for our linear regressor. Don't forget to use `requires_grad=True` to enable backprop.\n",
    "\n",
    "Also create the optimizer to train the parameters (in this case, we will use classic SGD)."
   ]
  },
  {
   "cell_type": "code",
   "execution_count": 3,
   "metadata": {},
   "outputs": [
    {
     "name": "stdout",
     "output_type": "stream",
     "text": [
      "tensor([ 0.4960]) tensor(0.4960) tensor([ 0.4159]) tensor(0.4159)\n"
     ]
    }
   ],
   "source": [
    "m = torch.randn(1, requires_grad=True)\n",
    "b = torch.randn(1, requires_grad=True)\n",
    "m_res = torch.tensor(m.item(), requires_grad=True)\n",
    "b_res = torch.tensor(b.item(), requires_grad=True)\n",
    "print(m, m_res, b, b_res)\n",
    "\n",
    "learning_rate = 1e-6\n",
    "optimizer = torch.optim.SGD((m, b), lr=learning_rate, momentum=0.9, nesterov=True)"
   ]
  },
  {
   "cell_type": "markdown",
   "metadata": {},
   "source": [
    "Run the training procedure:\n",
    "\n",
    "1. Calculate the predicted y (`y_hat`) using our parameters.\n",
    "2. Calculate the loss\n",
    "3. Reset the gradient to zero before doing backprop, then do the gradient descent by running `optimizer.step()` to update our parameters."
   ]
  },
  {
   "cell_type": "code",
   "execution_count": 4,
   "metadata": {},
   "outputs": [
    {
     "name": "stdout",
     "output_type": "stream",
     "text": [
      "0 585744.625\n",
      "1 224070.078125\n",
      "2 28323.51953125\n",
      "3 7215.82275390625\n",
      "4 62508.3984375\n",
      "5 101476.1953125\n",
      "6 92348.640625\n",
      "7 53975.02734375\n",
      "8 18011.337890625\n",
      "9 1347.2984619140625\n",
      "10 1669.3050537109375\n",
      "11 7813.2119140625\n",
      "12 10992.5458984375\n",
      "13 9145.1298828125\n",
      "14 4872.65673828125\n",
      "15 1385.135009765625\n",
      "16 40.27137756347656\n",
      "17 296.4476013183594\n",
      "18 939.7958984375\n",
      "19 1167.720458984375\n",
      "20 890.5192260742188\n",
      "21 430.0277404785156\n",
      "22 100.5758285522461\n",
      "23 0.22103548049926758\n",
      "24 45.59273147583008\n",
      "25 109.50829315185547\n",
      "26 121.79667663574219\n",
      "27 85.23897552490234\n",
      "28 36.99849319458008\n",
      "29 6.752368927001953\n",
      "30 0.2106662541627884\n",
      "31 6.395590305328369\n",
      "32 12.419008255004883\n",
      "33 12.48345947265625\n",
      "34 8.014311790466309\n",
      "35 3.090942621231079\n",
      "36 0.4037013649940491\n",
      "37 0.09540515393018723\n",
      "38 0.8408044576644897\n",
      "39 1.3753445148468018\n",
      "40 1.258092999458313\n",
      "41 0.7395108938217163\n",
      "42 0.24938946962356567\n",
      "43 0.019938161596655846\n",
      "44 0.02219664677977562\n",
      "45 0.10525196045637131\n",
      "46 0.1490931361913681\n",
      "47 0.12470494955778122\n",
      "48 0.06686613708734512\n",
      "49 0.019281970337033272\n",
      "50 0.0006795866647735238\n",
      "51 0.003960275556892157\n",
      "52 0.012681473046541214\n",
      "53 0.015851646661758423\n",
      "54 0.01215694472193718\n",
      "55 0.005913115106523037\n",
      "56 0.0014107520692050457\n",
      "57 1.2806007362087257e-05\n",
      "58 0.0006117344601079822\n",
      "59 0.0014813441084697843\n",
      "60 0.0016566949198022485\n",
      "61 0.0011664093472063541\n",
      "62 0.0005107097094878554\n",
      "63 9.617629257263616e-05\n",
      "64 3.488268248474924e-06\n",
      "65 8.610547229181975e-05\n",
      "66 0.00016856529691722244\n",
      "67 0.0001702410081634298\n",
      "68 0.00010984219261445105\n",
      "69 4.300879663787782e-05\n",
      "70 6.021655735821696e-06\n",
      "71 1.2621308087545913e-06\n",
      "72 1.1187495147169102e-05\n",
      "73 1.8562126570031978e-05\n",
      "74 1.7322759958915412e-05\n",
      "75 1.034999695548322e-05\n",
      "76 3.6126318718743278e-06\n",
      "77 3.220656594749016e-07\n",
      "78 3.07667619381391e-07\n",
      "79 1.3948190371593228e-06\n",
      "80 2.0558763935696334e-06\n",
      "81 1.7179378346554586e-06\n",
      "82 9.117366062127985e-07\n",
      "83 2.8214236635903944e-07\n",
      "84 1.4713313234437919e-08\n",
      "85 4.495226590961465e-08\n",
      "86 1.5520953411396476e-07\n",
      "87 2.171407231799094e-07\n",
      "88 1.783258056775594e-07\n",
      "89 9.27461343280811e-08\n",
      "90 2.3510470015253304e-08\n",
      "91 1.5009045117864162e-09\n",
      "92 8.134390938607794e-09\n",
      "93 1.5513707651848563e-08\n",
      "94 2.5170196593649052e-08\n",
      "95 1.4995316988120067e-08\n",
      "96 6.231947402568494e-09\n",
      "97 2.301217882916262e-09\n",
      "98 4.879773807253684e-10\n",
      "99 2.1685884199484917e-09\n"
     ]
    }
   ],
   "source": [
    "plot_loss = []\n",
    "for i in range(100):\n",
    "    y_hat = x * m + b\n",
    "    \n",
    "    loss = (y - y_hat).pow(2).sum()\n",
    "    plot_loss.append(loss.item())\n",
    "    print(i, loss.item())\n",
    "    \n",
    "    optimizer.zero_grad()\n",
    "    loss.backward()\n",
    "    optimizer.step()"
   ]
  },
  {
   "cell_type": "code",
   "execution_count": 5,
   "metadata": {},
   "outputs": [
    {
     "name": "stdout",
     "output_type": "stream",
     "text": [
      "True m = -1.858290433883667, True b = -0.12392416596412659\n",
      "Trained m = -1.8582905530929565, Trained b = -0.12392418831586838\n"
     ]
    }
   ],
   "source": [
    "print(\"True m = {}, True b = {}\".format(true_m.item(), true_b.item()))\n",
    "print(\"Trained m = {}, Trained b = {}\".format(m.item(), b.item()))"
   ]
  },
  {
   "cell_type": "code",
   "execution_count": 6,
   "metadata": {},
   "outputs": [
    {
     "data": {
      "image/png": "[encoded data removed]",
      "text/plain": [
       "<Figure size 432x288 with 1 Axes>"
      ]
     },
     "metadata": {},
     "output_type": "display_data"
    }
   ],
   "source": [
    "plt.plot(plot_loss)\n",
    "plt.show()"
   ]
  },
  {
   "cell_type": "code",
   "execution_count": 7,
   "metadata": {},
   "outputs": [],
   "source": [
    "optimizer_res = torch.optim.SGD((m_res, b_res), lr=learning_rate, momentum=0.9, nesterov=True)"
   ]
  },
  {
   "cell_type": "code",
   "execution_count": 8,
   "metadata": {},
   "outputs": [
    {
     "name": "stdout",
     "output_type": "stream",
     "text": [
      "0 1158372.25\n",
      "1 443348.5\n",
      "2 56152.421875\n",
      "3 14198.02734375\n",
      "4 123464.2734375\n",
      "5 200625.125\n",
      "6 182723.265625\n",
      "7 106903.625\n",
      "8 35740.609375\n",
      "9 2697.82470703125\n",
      "10 3274.629150390625\n",
      "11 15420.8916015625\n",
      "12 21738.322265625\n",
      "13 18112.83984375\n",
      "14 9668.8896484375\n",
      "15 2758.944580078125\n",
      "16 82.8564682006836\n",
      "17 581.0178833007812\n",
      "18 1854.420166015625\n",
      "19 2310.486328125\n",
      "20 1766.0225830078125\n",
      "21 855.3427124023438\n",
      "22 201.4110107421875\n",
      "23 0.5614165663719177\n",
      "24 89.34298706054688\n",
      "25 216.11236572265625\n",
      "26 241.1865234375\n",
      "27 169.31224060058594\n",
      "28 73.80900573730469\n",
      "29 13.629456520080566\n",
      "30 0.3924652636051178\n",
      "31 12.536612510681152\n",
      "32 24.52054786682129\n",
      "33 24.748769760131836\n",
      "34 15.951499938964844\n",
      "35 6.189667224884033\n",
      "36 0.8254281282424927\n",
      "37 0.18130424618721008\n",
      "38 1.6492027044296265\n",
      "39 2.717550277709961\n",
      "40 2.4976842403411865\n",
      "41 1.475488305091858\n",
      "42 0.5018923878669739\n",
      "43 0.04177992045879364\n",
      "44 0.04256884753704071\n",
      "45 0.20666347444057465\n",
      "46 0.294913113117218\n",
      "47 0.24801521003246307\n",
      "48 0.13383749127388\n",
      "49 0.03905909135937691\n",
      "50 0.001515673939138651\n",
      "51 0.007629329804331064\n",
      "52 0.024911046028137207\n",
      "53 0.031382281333208084\n",
      "54 0.02421114593744278\n",
      "55 0.011879528872668743\n",
      "56 0.0028860904276371002\n",
      "57 3.372244464117102e-05\n",
      "58 0.001178621081635356\n",
      "59 0.0029045308474451303\n",
      "60 0.0032794540748000145\n",
      "61 0.0023259164299815893\n",
      "62 0.0010275667300447822\n",
      "63 0.00019924889784306288\n",
      "64 6.428142569347983e-06\n",
      "65 0.0001646571181481704\n",
      "66 0.0003303334815427661\n",
      "67 0.000337878504069522\n",
      "68 0.00021950698283035308\n",
      "69 8.661055471748114e-05\n",
      "70 1.264731508854311e-05\n",
      "71 2.284761649207212e-06\n",
      "72 2.1664191081072204e-05\n",
      "73 3.656504486571066e-05\n",
      "74 3.440159707679413e-05\n",
      "75 2.0714953279821202e-05\n",
      "76 7.403000381600577e-06\n",
      "77 7.088178790581878e-07\n",
      "78 5.526067070604768e-07\n",
      "79 2.904688244598219e-06\n",
      "80 4.2658061829570215e-06\n",
      "81 3.6232613638276234e-06\n",
      "82 1.863871943896811e-06\n",
      "83 5.727742973249406e-07\n",
      "84 3.0219574398415716e-08\n",
      "85 1.0630691349433619e-07\n",
      "86 3.8053929074521875e-07\n",
      "87 4.6885520532669034e-07\n",
      "88 3.7048280887574947e-07\n",
      "89 2.0702134406747064e-07\n",
      "90 5.2443741793695153e-08\n",
      "91 2.1401225236417076e-09\n",
      "92 2.5503698708462252e-08\n",
      "93 5.408022119013367e-08\n",
      "94 5.3917545983495074e-08\n",
      "95 2.4999971870443005e-08\n",
      "96 7.222696662978478e-09\n",
      "97 1.3271748144916273e-09\n",
      "98 1.3321173053526536e-09\n",
      "99 1.3367813522791039e-09\n"
     ]
    }
   ],
   "source": [
    "plot_loss_res = []\n",
    "for i in range(100):\n",
    "    y_hat_res = (x * m_res + b_res) + x\n",
    "    \n",
    "    loss_res = (y - y_hat_res).pow(2).sum()\n",
    "    plot_loss_res.append(loss_res.item())\n",
    "    print(i, loss_res.item())\n",
    "    \n",
    "    optimizer_res.zero_grad()\n",
    "    loss_res.backward()\n",
    "    optimizer_res.step()"
   ]
  },
  {
   "cell_type": "code",
   "execution_count": 9,
   "metadata": {},
   "outputs": [
    {
     "name": "stdout",
     "output_type": "stream",
     "text": [
      "True m = -1.858290433883667, True b = -0.12392416596412659\n",
      "Trained m = -2.858290433883667, Trained b = -0.12392418831586838\n"
     ]
    }
   ],
   "source": [
    "print(\"True m = {}, True b = {}\".format(true_m.item(), true_b.item()))\n",
    "print(\"Trained m = {}, Trained b = {}\".format(m_res.item(), b_res.item()))"
   ]
  },
  {
   "cell_type": "code",
   "execution_count": 10,
   "metadata": {},
   "outputs": [
    {
     "data": {
      "image/png": "[encoded data removed]",
      "text/plain": [
       "<Figure size 432x288 with 1 Axes>"
      ]
     },
     "metadata": {},
     "output_type": "display_data"
    }
   ],
   "source": [
    "plt.plot(plot_loss_res)\n",
    "plt.show()"
   ]
  },
  {
   "cell_type": "code",
   "execution_count": 11,
   "metadata": {},
   "outputs": [
    {
     "name": "stdout",
     "output_type": "stream",
     "text": [
      "tensor(1.00000e-04 *\n",
      "       -5.6355)\n"
     ]
    }
   ],
   "source": [
    "print(torch.sum(y_hat - y_hat_res))"
   ]
  },
  {
   "cell_type": "code",
   "execution_count": null,
   "metadata": {
    "collapsed": true
   },
   "outputs": [],
   "source": []
  }
 ],
 "metadata": {
  "kernelspec": {
   "display_name": "Python [conda env:pytorch]",
   "language": "python",
   "name": "conda-env-pytorch-py"
  },
  "language_info": {
   "codemirror_mode": {
    "name": "ipython",
    "version": 3
   },
   "file_extension": ".py",
   "mimetype": "text/x-python",
   "name": "python",
   "nbconvert_exporter": "python",
   "pygments_lexer": "ipython3",
   "version": "3.5.5"
  }
 },
 "nbformat": 4,
 "nbformat_minor": 2
}
