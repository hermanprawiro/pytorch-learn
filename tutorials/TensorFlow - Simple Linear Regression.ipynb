{
 "cells": [
  {
   "cell_type": "code",
   "execution_count": 1,
   "metadata": {},
   "outputs": [
    {
     "name": "stderr",
     "output_type": "stream",
     "text": [
      "C:\\Users\\Herman\\Anaconda3\\envs\\tensorflow\\lib\\site-packages\\h5py\\__init__.py:36: FutureWarning: Conversion of the second argument of issubdtype from `float` to `np.floating` is deprecated. In future, it will be treated as `np.float64 == np.dtype(float).type`.\n",
      "  from ._conv import register_converters as _register_converters\n"
     ]
    }
   ],
   "source": [
    "import tensorflow as tf\n",
    "import numpy as np"
   ]
  },
  {
   "cell_type": "code",
   "execution_count": 2,
   "metadata": {
    "collapsed": true
   },
   "outputs": [],
   "source": [
    "true_m = np.random.randn()\n",
    "true_b = np.random.randn()\n",
    "data_x = np.random.randn(10000, 1)\n",
    "data_y = data_x * true_m + true_b\n",
    "\n",
    "x = tf.placeholder(tf.float32, shape=[None, 1])\n",
    "y = tf.placeholder(tf.float32, shape=[None, 1])"
   ]
  },
  {
   "cell_type": "code",
   "execution_count": 3,
   "metadata": {},
   "outputs": [],
   "source": [
    "m = tf.get_variable(\"m\", [])\n",
    "b = tf.get_variable(\"b\", [])\n",
    "\n",
    "y_hat = x * m + b\n",
    "\n",
    "loss = tf.reduce_sum(tf.square(y - y_hat))\n",
    "optimizer = tf.train.GradientDescentOptimizer(1e-5)\n",
    "train_op = optimizer.minimize(loss)"
   ]
  },
  {
   "cell_type": "code",
   "execution_count": 4,
   "metadata": {},
   "outputs": [
    {
     "name": "stdout",
     "output_type": "stream",
     "text": [
      "0 47015.023\n",
      "1 29666.482\n",
      "2 18720.22\n",
      "3 11813.311\n",
      "4 7455.0093\n",
      "5 4704.797\n",
      "6 2969.2715\n",
      "7 1874.0248\n",
      "8 1182.8167\n",
      "9 746.57983\n",
      "10 471.2509\n",
      "11 297.47156\n",
      "12 187.78278\n",
      "13 118.54514\n",
      "14 74.83928\n",
      "15 47.24903\n",
      "16 29.831512\n",
      "17 18.835457\n",
      "18 11.89308\n",
      "19 7.5098977\n",
      "20 4.7423015\n",
      "21 2.9947953\n",
      "22 1.8913039\n",
      "23 1.1944772\n",
      "24 0.7544297\n",
      "25 0.47651052\n",
      "26 0.30098298\n",
      "27 0.19012499\n",
      "28 0.12009958\n",
      "29 0.07587235\n",
      "30 0.047931753\n",
      "31 0.030284297\n",
      "32 0.019134123\n",
      "33 0.012088816\n",
      "34 0.0076396842\n",
      "35 0.0048275273\n",
      "36 0.00305088\n",
      "37 0.0019280453\n",
      "38 0.0012187785\n",
      "39 0.0007701039\n",
      "40 0.00048674725\n",
      "41 0.00030770613\n",
      "42 0.00019444645\n",
      "43 0.00012290016\n",
      "44 7.763521e-05\n",
      "45 4.9123068e-05\n",
      "46 3.1103868e-05\n",
      "47 1.9702358e-05\n",
      "48 1.2442342e-05\n",
      "49 7.86014e-06\n",
      "50 4.949801e-06\n",
      "51 3.124921e-06\n",
      "52 1.9670074e-06\n",
      "53 1.2504021e-06\n",
      "54 7.8735366e-07\n",
      "55 5.050246e-07\n",
      "56 3.144621e-07\n",
      "57 2.0388956e-07\n",
      "58 1.2658681e-07\n",
      "59 8.244885e-08\n",
      "60 5.2902294e-08\n",
      "61 3.6040085e-08\n",
      "62 2.234449e-08\n",
      "63 1.42808165e-08\n",
      "64 8.764093e-09\n",
      "65 6.140568e-09\n",
      "66 4.186863e-09\n",
      "67 2.777532e-09\n",
      "68 1.5909689e-09\n",
      "69 6.996438e-10\n",
      "70 6.5471767e-10\n",
      "71 5.7154287e-10\n",
      "72 5.590065e-10\n",
      "73 5.46885e-10\n",
      "74 5.445563e-10\n",
      "75 5.288801e-10\n",
      "76 5.207789e-10\n",
      "77 5.1958915e-10\n",
      "78 5.189693e-10\n",
      "79 5.166522e-10\n",
      "80 5.16852e-10\n",
      "81 5.177645e-10\n",
      "82 5.177645e-10\n",
      "83 5.177645e-10\n",
      "84 5.177645e-10\n",
      "85 5.177645e-10\n",
      "86 5.177645e-10\n",
      "87 5.177645e-10\n",
      "88 5.177645e-10\n",
      "89 5.177645e-10\n",
      "90 5.177645e-10\n",
      "91 5.177645e-10\n",
      "92 5.177645e-10\n",
      "93 5.177645e-10\n",
      "94 5.177645e-10\n",
      "95 5.177645e-10\n",
      "96 5.177645e-10\n",
      "97 5.177645e-10\n",
      "98 5.177645e-10\n",
      "99 5.177645e-10\n",
      "True m = -1.6658082880222496, True b = -0.09304838183928982\n",
      "Trained m = -1.665808081626892, Trained b = -0.09304837882518768\n"
     ]
    }
   ],
   "source": [
    "with tf.Session() as sess:\n",
    "    sess.run(tf.global_variables_initializer())\n",
    "    for i in range(100):\n",
    "        _loss, _ = sess.run([loss, train_op], feed_dict={x: data_x, y: data_y})\n",
    "        print(i, _loss)\n",
    "    \n",
    "    print(\"True m = {}, True b = {}\".format(true_m, true_b))\n",
    "    print(\"Trained m = {}, Trained b = {}\".format(*sess.run([m, b])))"
   ]
  },
  {
   "cell_type": "code",
   "execution_count": null,
   "metadata": {
    "collapsed": true
   },
   "outputs": [],
   "source": []
  }
 ],
 "metadata": {
  "kernelspec": {
   "display_name": "Python [conda env:tensorflow]",
   "language": "python",
   "name": "conda-env-tensorflow-py"
  },
  "language_info": {
   "codemirror_mode": {
    "name": "ipython",
    "version": 3
   },
   "file_extension": ".py",
   "mimetype": "text/x-python",
   "name": "python",
   "nbconvert_exporter": "python",
   "pygments_lexer": "ipython3",
   "version": "3.5.4"
  }
 },
 "nbformat": 4,
 "nbformat_minor": 2
}
